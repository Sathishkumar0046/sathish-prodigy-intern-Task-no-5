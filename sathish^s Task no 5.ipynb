{
 "cells": [
  {
   "cell_type": "code",
   "execution_count": 19,
   "id": "ae0cd53f-7eb4-46e5-86f3-c829c274a3d6",
   "metadata": {},
   "outputs": [
    {
     "name": "stdout",
     "output_type": "stream",
     "text": [
      "Note: you may need to restart the kernel to use updated packages.\n"
     ]
    },
    {
     "name": "stderr",
     "output_type": "stream",
     "text": [
      "ERROR: Could not find a version that satisfies the requirement subprocess (from versions: none)\n",
      "ERROR: No matching distribution found for subprocess\n"
     ]
    }
   ],
   "source": [
    "pip install subprocess"
   ]
  },
  {
   "cell_type": "code",
   "execution_count": 18,
   "id": "5727e00d-995d-4ce1-a8a0-3fa46d3072ba",
   "metadata": {},
   "outputs": [
    {
     "name": "stdout",
     "output_type": "stream",
     "text": [
      "Error: [WinError 2] The system cannot find the file specified\n"
     ]
    }
   ],
   "source": [
    "import subprocess\n",
    "\n",
    "def parse_tcpdump_line(line):\n",
    "    parts = line.split()\n",
    "    if len(parts) < 8:\n",
    "        return None\n",
    "    time = parts[0]\n",
    "    src_ip = parts[2].split('.')[0]\n",
    "    dest_ip = parts[4].split('.')[0]\n",
    "    protocol = parts[1]\n",
    "    return time, src_ip, dest_ip, protocol\n",
    "\n",
    "def main():\n",
    "    # Replace 'eth0' with the correct interface name for your system\n",
    "    interface = 'eth0'\n",
    "    try:\n",
    "        process = subprocess.Popen(['tcpdump', '-i', interface, '-n'], stdout=subprocess.PIPE, stderr=subprocess.PIPE)\n",
    "        for line in iter(process.stdout.readline, b''):\n",
    "            line = line.decode('utf-8').strip()\n",
    "            parsed_line = parse_tcpdump_line(line)\n",
    "            if parsed_line:\n",
    "                time, src_ip, dest_ip, protocol = parsed_line\n",
    "                print(f'Time: {time}, Source IP: {src_ip}, Destination IP: {dest_ip}, Protocol: {protocol}')\n",
    "    except KeyboardInterrupt:\n",
    "        print(\"Sniffing stopped.\")\n",
    "    except Exception as e:\n",
    "        print(f\"Error: {e}\")\n",
    "\n",
    "if __name__ == \"__main__\":\n",
    "    main()\n"
   ]
  },
  {
   "cell_type": "code",
   "execution_count": null,
   "id": "df245428-66a3-4f51-a675-45c2e210392c",
   "metadata": {},
   "outputs": [],
   "source": []
  }
 ],
 "metadata": {
  "kernelspec": {
   "display_name": "Python 3 (ipykernel)",
   "language": "python",
   "name": "python3"
  },
  "language_info": {
   "codemirror_mode": {
    "name": "ipython",
    "version": 3
   },
   "file_extension": ".py",
   "mimetype": "text/x-python",
   "name": "python",
   "nbconvert_exporter": "python",
   "pygments_lexer": "ipython3",
   "version": "3.11.7"
  }
 },
 "nbformat": 4,
 "nbformat_minor": 5
}
